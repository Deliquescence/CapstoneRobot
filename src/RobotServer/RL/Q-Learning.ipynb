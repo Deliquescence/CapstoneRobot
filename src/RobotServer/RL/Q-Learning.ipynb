{
 "cells": [
  {
   "cell_type": "code",
   "execution_count": 1,
   "metadata": {},
   "outputs": [],
   "source": [
    "# Based on\n",
    "# https://github.com/dennybritz/reinforcement-learning/blob/master/TD/Q-Learning%20Solution.ipynb\n",
    "# Under MIT License by Denny Britz"
   ]
  },
  {
   "cell_type": "code",
   "execution_count": 2,
   "metadata": {},
   "outputs": [],
   "source": [
    "import sys\n",
    "import numpy as np\n",
    "import pandas as pd\n",
    "from collections import defaultdict\n",
    "import pickle\n",
    "\n",
    "import actions\n",
    "import states"
   ]
  },
  {
   "cell_type": "code",
   "execution_count": 3,
   "metadata": {},
   "outputs": [],
   "source": [
    "def get_training_set():\n",
    "    return pd.read_csv(\"../../../../train_data/rl_labels.csv\")"
   ]
  },
  {
   "cell_type": "code",
   "execution_count": 4,
   "metadata": {},
   "outputs": [],
   "source": [
    "def default_action_values():\n",
    "    return np.zeros(actions.n)"
   ]
  },
  {
   "cell_type": "code",
   "execution_count": 5,
   "metadata": {},
   "outputs": [],
   "source": [
    "def q_learning(train_set, Q=None, num_episodes=1, discount_factor=1.0, alpha=0.5):\n",
    "    \"\"\"\n",
    "    Q-Learning algorithm: Off-policy TD control.\n",
    "    \n",
    "    Args:\n",
    "        Q: if you have an existing Q to train more\n",
    "        num_episodes: Number of loops over the train set\n",
    "        discount_factor: Gamma discount factor.\n",
    "        alpha: TD learning rate.\n",
    "    \n",
    "    Returns:\n",
    "        Q\n",
    "        Q is the optimal action-value function, a dictionary mapping state -> action values.\n",
    "    \"\"\"\n",
    "    \n",
    "    # The final action-value function.\n",
    "    # A nested dictionary that maps state -> (action -> action-value).\n",
    "    if Q is None:\n",
    "        Q = defaultdict(default_action_values)  \n",
    "    \n",
    "    for i_episode in range(num_episodes):\n",
    "        print(\"\\rEpisode {}/{}...\".format(i_episode + 1, num_episodes), end=\"\")\n",
    "        sys.stdout.flush()\n",
    "        \n",
    "        for index, state, action, reward, next_state in train_set.itertuples():\n",
    "            \n",
    "            # TD Update\n",
    "            best_next_action = np.argmax(Q[next_state])    \n",
    "            td_target = reward + discount_factor * Q[next_state][best_next_action]\n",
    "            td_delta = td_target - Q[state][action]\n",
    "            Q[state][action] += alpha * td_delta\n",
    "    \n",
    "    return Q"
   ]
  },
  {
   "cell_type": "code",
   "execution_count": 101,
   "metadata": {},
   "outputs": [],
   "source": [
    "def print_action_values(action_values):\n",
    "    for a, v in enumerate(action_values):\n",
    "        print(\"{0}\\t{1}\".format(actions.Action(a), v))\n",
    "    \n",
    "def print_best_action(action_values):\n",
    "    print(\"Best: {0}\".format(actions.Action(np.argmax(action_values))))"
   ]
  },
  {
   "cell_type": "code",
   "execution_count": 174,
   "metadata": {},
   "outputs": [
    {
     "name": "stdout",
     "output_type": "stream",
     "text": [
      "Episode 100/100..."
     ]
    }
   ],
   "source": [
    "Q = q_learning(get_training_set(), num_episodes=100, discount_factor=0.8)"
   ]
  },
  {
   "cell_type": "code",
   "execution_count": 175,
   "metadata": {},
   "outputs": [
    {
     "name": "stdout",
     "output_type": "stream",
     "text": [
      "straight:\n",
      "Best: Action.stop\n",
      "Best: Action.low_hard_left\n",
      "Best: Action.rev_low_soft_left\n",
      "left:\n",
      "Best: Action.rev_low_straight\n",
      "Best: Action.low_soft_right\n",
      "Best: Action.rev_low_straight\n",
      "right:\n",
      "Best: Action.stop\n",
      "Best: Action.high_soft_right\n",
      "Best: Action.rev_low_soft_left\n"
     ]
    }
   ],
   "source": [
    "#print_action_values(Q[states.State.unknown.value])\n",
    "#print_best_action(Q[states.State.unknown.value])\n",
    "print(\"straight:\")\n",
    "print_best_action(Q[states.State.near_straight.value])\n",
    "print_best_action(Q[states.State.good_straight.value])\n",
    "print_best_action(Q[states.State.far_straight.value])\n",
    "print(\"left:\")\n",
    "print_best_action(Q[states.State.near_left.value])\n",
    "print_best_action(Q[states.State.good_left.value])\n",
    "print_best_action(Q[states.State.far_left.value])\n",
    "print(\"right:\")\n",
    "print_best_action(Q[states.State.near_right.value])\n",
    "print_best_action(Q[states.State.good_right.value])\n",
    "print_best_action(Q[states.State.far_right.value])"
   ]
  },
  {
   "cell_type": "code",
   "execution_count": 176,
   "metadata": {},
   "outputs": [
    {
     "name": "stdout",
     "output_type": "stream",
     "text": [
      "Action.stop\t2.734909369187495\n",
      "Action.low_hard_left\t4.9999999999978995\n",
      "Action.high_hard_left\t3.448529125077536\n",
      "Action.low_soft_left\t0.0\n",
      "Action.high_soft_left\t4.999999999997288\n",
      "Action.low_straight\t0.0\n",
      "Action.high_straight\t4.279067092954111\n",
      "Action.low_soft_right\t0.0\n",
      "Action.high_soft_right\t3.432299242422315\n",
      "Action.low_hard_right\t3.99999999999756\n",
      "Action.high_hard_right\t4.75733855185718\n",
      "Action.rev_low_hard_left\t0.0\n",
      "Action.rev_high_hard_left\t3.999999999998034\n",
      "Action.rev_low_soft_left\t3.7999999999992484\n",
      "Action.rev_high_soft_left\t4.666666666664566\n",
      "Action.rev_low_straight\t0.0\n",
      "Action.rev_high_straight\t4.751467710369848\n",
      "Action.rev_low_soft_right\t4.999999999997288\n",
      "Action.rev_high_soft_right\t0.0\n",
      "Action.rev_low_hard_right\t0.0\n",
      "Action.rev_high_hard_right\t3.9999999999972884\n",
      "Best: Action.low_hard_left\n",
      "Action.stop\t2.4248946120228734\n",
      "Action.low_hard_left\t2.4116060694419064\n",
      "Action.high_hard_left\t2.3026033207922296\n",
      "Action.low_soft_left\t2.065596850553997\n",
      "Action.high_soft_left\t2.0839227541114447\n",
      "Action.low_straight\t2.271060809548394\n",
      "Action.high_straight\t2.3041698261116217\n",
      "Action.low_soft_right\t2.3099572632758765\n",
      "Action.high_soft_right\t2.4642564435802745\n",
      "Action.low_hard_right\t2.3635855091968523\n",
      "Action.high_hard_right\t2.3136431997276663\n",
      "Action.rev_low_hard_left\t2.1516323965231967\n",
      "Action.rev_high_hard_left\t2.317315391549397\n",
      "Action.rev_low_soft_left\t3.1542511243732454\n",
      "Action.rev_high_soft_left\t2.1271209797273025\n",
      "Action.rev_low_straight\t2.323097214299478\n",
      "Action.rev_high_straight\t2.4056421908551995\n",
      "Action.rev_low_soft_right\t2.0584439031223485\n",
      "Action.rev_high_soft_right\t2.550488628970724\n",
      "Action.rev_low_hard_right\t2.0752779535431474\n",
      "Action.rev_high_hard_right\t2.3189381120844303\n",
      "Best: Action.rev_low_soft_left\n"
     ]
    }
   ],
   "source": [
    "print_action_values(Q[states.State.good_straight.value])\n",
    "print_best_action(Q[states.State.good_straight.value])\n",
    "print_action_values(Q[states.State.far_straight.value])\n",
    "print_best_action(Q[states.State.far_straight.value])"
   ]
  },
  {
   "cell_type": "code",
   "execution_count": 177,
   "metadata": {},
   "outputs": [],
   "source": [
    "Q_serialized = pickle.dumps(Q)\n",
    "out_path = \"../models/q.pkl\"\n",
    "with open(out_path, \"bw\") as f:\n",
    "    f.write(Q_serialized)"
   ]
  },
  {
   "cell_type": "code",
   "execution_count": null,
   "metadata": {},
   "outputs": [],
   "source": []
  }
 ],
 "metadata": {
  "kernelspec": {
   "display_name": "Python 3",
   "language": "python",
   "name": "python3"
  },
  "language_info": {
   "codemirror_mode": {
    "name": "ipython",
    "version": 3
   },
   "file_extension": ".py",
   "mimetype": "text/x-python",
   "name": "python",
   "nbconvert_exporter": "python",
   "pygments_lexer": "ipython3",
   "version": "3.6.3"
  }
 },
 "nbformat": 4,
 "nbformat_minor": 2
}
