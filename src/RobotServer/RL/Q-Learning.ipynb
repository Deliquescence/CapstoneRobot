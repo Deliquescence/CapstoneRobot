{
 "cells": [
  {
   "cell_type": "code",
   "execution_count": 3,
   "metadata": {},
   "outputs": [],
   "source": [
    "# Based on\n",
    "# https://github.com/dennybritz/reinforcement-learning/blob/master/TD/Q-Learning%20Solution.ipynb\n",
    "# Under MIT License by Denny Britz"
   ]
  },
  {
   "cell_type": "code",
   "execution_count": 31,
   "metadata": {},
   "outputs": [],
   "source": [
    "import sys\n",
    "import numpy as np\n",
    "import pandas as pd\n",
    "from collections import defaultdict\n",
    "import pickle\n",
    "\n",
    "import actions\n",
    "import states"
   ]
  },
  {
   "cell_type": "code",
   "execution_count": 5,
   "metadata": {},
   "outputs": [],
   "source": [
    "def get_training_set():\n",
    "    return pd.read_csv(\"../../../../train_data/rl_labels.csv\")"
   ]
  },
  {
   "cell_type": "code",
   "execution_count": 33,
   "metadata": {},
   "outputs": [],
   "source": [
    "def default_action_values():\n",
    "    return np.zeros(actions.n)"
   ]
  },
  {
   "cell_type": "code",
   "execution_count": 34,
   "metadata": {},
   "outputs": [],
   "source": [
    "def q_learning(train_set, Q=None, num_episodes=1, discount_factor=1.0, alpha=0.5, epsilon=0.1):\n",
    "    \"\"\"\n",
    "    Q-Learning algorithm: Off-policy TD control.\n",
    "    \n",
    "    Args:\n",
    "        Q: if you have an existing Q to train more\n",
    "        num_episodes: Number of loops over the train set\n",
    "        discount_factor: Gamma discount factor.\n",
    "        alpha: TD learning rate.\n",
    "        epsilon: Chance the sample a random action. Float betwen 0 and 1.\n",
    "    \n",
    "    Returns:\n",
    "        Q\n",
    "        Q is the optimal action-value function, a dictionary mapping state -> action values.\n",
    "    \"\"\"\n",
    "    \n",
    "    # The final action-value function.\n",
    "    # A nested dictionary that maps state -> (action -> action-value).\n",
    "    if Q is None:\n",
    "        Q = defaultdict(default_action_values)  \n",
    "    \n",
    "    for i_episode in range(num_episodes):\n",
    "        print(\"\\rEpisode {}/{}...\".format(i_episode + 1, num_episodes), end=\"\")\n",
    "        sys.stdout.flush()\n",
    "        \n",
    "        for index, state, action, reward, next_state in train_set.itertuples():\n",
    "            \n",
    "            # TD Update\n",
    "            best_next_action = np.argmax(Q[next_state])    \n",
    "            td_target = reward + discount_factor * Q[next_state][best_next_action]\n",
    "            td_delta = td_target - Q[state][action]\n",
    "            Q[state][action] += alpha * td_delta\n",
    "    \n",
    "    return Q"
   ]
  },
  {
   "cell_type": "code",
   "execution_count": 35,
   "metadata": {},
   "outputs": [
    {
     "name": "stdout",
     "output_type": "stream",
     "text": [
      "\r",
      "Episode 1/1..."
     ]
    }
   ],
   "source": [
    "Q = q_learning(get_training_set(), num_episodes=1)"
   ]
  },
  {
   "cell_type": "code",
   "execution_count": 36,
   "metadata": {},
   "outputs": [],
   "source": [
    "def print_action_values(action_values):\n",
    "    for a, v in enumerate(action_values):\n",
    "        print(\"{0}\\t{1}\".format(actions.Action(a), v))\n",
    "    "
   ]
  },
  {
   "cell_type": "code",
   "execution_count": 37,
   "metadata": {},
   "outputs": [
    {
     "name": "stdout",
     "output_type": "stream",
     "text": [
      "Action.stop\t13.360255515525962\n",
      "Action.low_hard_left\t0.0\n",
      "Action.high_hard_left\t7.268059128891072\n",
      "Action.low_soft_left\t0.0\n",
      "Action.high_soft_left\t0.0\n",
      "Action.low_straight\t0.0\n",
      "Action.high_straight\t13.391505513399997\n",
      "Action.low_soft_right\t0.0\n",
      "Action.high_soft_right\t0.0\n",
      "Action.low_hard_right\t0.0\n",
      "Action.high_hard_right\t4.543242898560518\n",
      "Action.rev_low_hard_left\t0.0\n",
      "Action.rev_high_hard_left\t0.0\n",
      "Action.rev_low_soft_left\t0.0\n",
      "Action.rev_high_soft_left\t0.0\n",
      "Action.rev_low_straight\t0.0\n",
      "Action.rev_high_straight\t0.0\n",
      "Action.rev_low_soft_right\t0.0\n",
      "Action.rev_high_soft_right\t0.0\n",
      "Action.rev_low_hard_right\t0.0\n",
      "Action.rev_high_hard_right\t0.0\n"
     ]
    }
   ],
   "source": [
    "print_action_values(Q[states.State.far_straight.value])"
   ]
  },
  {
   "cell_type": "code",
   "execution_count": 38,
   "metadata": {},
   "outputs": [],
   "source": [
    "Q_serialized = pickle.dumps(Q)"
   ]
  },
  {
   "cell_type": "code",
   "execution_count": 42,
   "metadata": {},
   "outputs": [],
   "source": [
    "out_path = \"../models/q.pkl\"\n",
    "with open(out_path, \"bw\") as f:\n",
    "    f.write(Q_serialized)"
   ]
  },
  {
   "cell_type": "code",
   "execution_count": null,
   "metadata": {},
   "outputs": [],
   "source": []
  }
 ],
 "metadata": {
  "kernelspec": {
   "display_name": "Python 3",
   "language": "python",
   "name": "python3"
  },
  "language_info": {
   "codemirror_mode": {
    "name": "ipython",
    "version": 3
   },
   "file_extension": ".py",
   "mimetype": "text/x-python",
   "name": "python",
   "nbconvert_exporter": "python",
   "pygments_lexer": "ipython3",
   "version": "3.6.3"
  }
 },
 "nbformat": 4,
 "nbformat_minor": 2
}
