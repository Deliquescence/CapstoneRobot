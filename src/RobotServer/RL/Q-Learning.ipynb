{
 "cells": [
  {
   "cell_type": "code",
   "execution_count": 1,
   "metadata": {},
   "outputs": [],
   "source": [
    "# Based on\n",
    "# https://github.com/dennybritz/reinforcement-learning/blob/master/TD/Q-Learning%20Solution.ipynb\n",
    "# Under MIT License by Denny Britz"
   ]
  },
  {
   "cell_type": "code",
   "execution_count": 2,
   "metadata": {},
   "outputs": [],
   "source": [
    "import sys\n",
    "import numpy as np\n",
    "import pandas as pd\n",
    "from collections import defaultdict\n",
    "import pickle\n",
    "\n",
    "import actions\n",
    "import states"
   ]
  },
  {
   "cell_type": "code",
   "execution_count": 3,
   "metadata": {},
   "outputs": [],
   "source": [
    "def get_training_set():\n",
    "    return pd.read_csv(\"../../../../train_data/rl_labels.csv\")"
   ]
  },
  {
   "cell_type": "code",
   "execution_count": 4,
   "metadata": {},
   "outputs": [],
   "source": [
    "def default_action_values():\n",
    "    return np.zeros(actions.n)"
   ]
  },
  {
   "cell_type": "code",
   "execution_count": 5,
   "metadata": {},
   "outputs": [],
   "source": [
    "def q_learning(train_set, Q=None, num_episodes=1, discount_factor=1.0, alpha=0.5):\n",
    "    \"\"\"\n",
    "    Q-Learning algorithm: Off-policy TD control.\n",
    "    \n",
    "    Args:\n",
    "        Q: if you have an existing Q to train more\n",
    "        num_episodes: Number of loops over the train set\n",
    "        discount_factor: Gamma discount factor.\n",
    "        alpha: TD learning rate.\n",
    "    \n",
    "    Returns:\n",
    "        Q\n",
    "        Q is the optimal action-value function, a dictionary mapping state -> action values.\n",
    "    \"\"\"\n",
    "    \n",
    "    # The final action-value function.\n",
    "    # A nested dictionary that maps state -> (action -> action-value).\n",
    "    if Q is None:\n",
    "        Q = defaultdict(default_action_values)  \n",
    "    \n",
    "    for i_episode in range(num_episodes):\n",
    "        print(\"\\rEpisode {}/{}...\".format(i_episode + 1, num_episodes), end=\"\")\n",
    "        sys.stdout.flush()\n",
    "        \n",
    "        for index, state, action, reward, next_state in train_set.itertuples():\n",
    "            \n",
    "            # TD Update\n",
    "            best_next_action = np.argmax(Q[next_state])    \n",
    "            td_target = reward + discount_factor * Q[next_state][best_next_action]\n",
    "            td_delta = td_target - Q[state][action]\n",
    "            Q[state][action] += alpha * td_delta\n",
    "    \n",
    "    return Q"
   ]
  },
  {
   "cell_type": "code",
   "execution_count": 101,
   "metadata": {},
   "outputs": [],
   "source": [
    "def print_action_values(action_values):\n",
    "    for a, v in enumerate(action_values):\n",
    "        print(\"{0}\\t{1}\".format(actions.Action(a), v))\n",
    "    \n",
    "def print_best_action(action_values):\n",
    "    print(\"Best: {0}\".format(actions.Action(np.argmax(action_values))))"
   ]
  },
  {
   "cell_type": "code",
   "execution_count": 188,
   "metadata": {},
   "outputs": [
    {
     "name": "stdout",
     "output_type": "stream",
     "text": [
      "Episode 100/100..."
     ]
    }
   ],
   "source": [
    "Q = q_learning(get_training_set(), num_episodes=100, discount_factor=0.9)"
   ]
  },
  {
   "cell_type": "code",
   "execution_count": 189,
   "metadata": {},
   "outputs": [
    {
     "name": "stdout",
     "output_type": "stream",
     "text": [
      "Best: Action.low_straight\n",
      "straight:\n",
      "Best: Action.stop\n",
      "Best: Action.low_hard_left\n",
      "Best: Action.rev_low_soft_left\n",
      "left:\n",
      "Best: Action.rev_low_straight\n",
      "Best: Action.high_soft_left\n",
      "Best: Action.rev_low_soft_left\n",
      "right:\n",
      "Best: Action.stop\n",
      "Best: Action.low_soft_left\n",
      "Best: Action.stop\n"
     ]
    }
   ],
   "source": [
    "#print_action_values(Q[states.State.unknown.value])\n",
    "print_best_action(Q[states.State.unknown.value])\n",
    "print(\"straight:\")\n",
    "print_best_action(Q[states.State.near_straight.value])\n",
    "print_best_action(Q[states.State.good_straight.value])\n",
    "print_best_action(Q[states.State.far_straight.value])\n",
    "print(\"left:\")\n",
    "print_best_action(Q[states.State.near_left.value])\n",
    "print_best_action(Q[states.State.good_left.value])\n",
    "print_best_action(Q[states.State.far_left.value])\n",
    "print(\"right:\")\n",
    "print_best_action(Q[states.State.near_right.value])\n",
    "print_best_action(Q[states.State.good_right.value])\n",
    "print_best_action(Q[states.State.far_right.value])"
   ]
  },
  {
   "cell_type": "code",
   "execution_count": 190,
   "metadata": {},
   "outputs": [
    {
     "name": "stdout",
     "output_type": "stream",
     "text": [
      "Action.stop\t8.377058010275665\n",
      "Action.low_hard_left\t9.999999984928056\n",
      "Action.high_hard_left\t8.233055918727262\n",
      "Action.low_soft_left\t0.0\n",
      "Action.high_soft_left\t9.999999981891463\n",
      "Action.low_straight\t0.0\n",
      "Action.high_straight\t8.905251277062312\n",
      "Action.low_soft_right\t0.0\n",
      "Action.high_soft_right\t8.232960375720488\n",
      "Action.low_hard_right\t8.99999998362361\n",
      "Action.high_hard_right\t9.646361919967173\n",
      "Action.rev_low_hard_left\t0.0\n",
      "Action.rev_high_hard_left\t7.336978333561209\n",
      "Action.rev_low_soft_left\t8.733333327903427\n",
      "Action.rev_high_soft_left\t9.99999998362361\n",
      "Action.rev_low_straight\t0.0\n",
      "Action.rev_high_straight\t9.999999984414373\n",
      "Action.rev_low_soft_right\t9.999999982488298\n",
      "Action.rev_high_soft_right\t0.0\n",
      "Action.rev_low_hard_right\t0.0\n",
      "Action.rev_high_hard_right\t0.0\n",
      "Best: Action.low_hard_left\n",
      "Action.stop\t7.226288778448289\n",
      "Action.low_hard_left\t7.080348241799777\n",
      "Action.high_hard_left\t6.9182067162413325\n",
      "Action.low_soft_left\t6.4837178273827725\n",
      "Action.high_soft_left\t6.50484219505876\n",
      "Action.low_straight\t6.84663053774549\n",
      "Action.high_straight\t6.837533666928753\n",
      "Action.low_soft_right\t6.924135498475235\n",
      "Action.high_soft_right\t6.986535474848424\n",
      "Action.low_hard_right\t7.138573223168311\n",
      "Action.high_hard_right\t6.8596411522688765\n",
      "Action.rev_low_hard_left\t6.604616348449319\n",
      "Action.rev_high_hard_left\t6.892601187394875\n",
      "Action.rev_low_soft_left\t7.931748027914921\n",
      "Action.rev_high_soft_left\t6.5488508123141695\n",
      "Action.rev_low_straight\t6.892907890744564\n",
      "Action.rev_high_straight\t7.040543354454426\n",
      "Action.rev_low_soft_right\t6.479168631275879\n",
      "Action.rev_high_soft_right\t7.048369575297283\n",
      "Action.rev_low_hard_right\t6.535377903212905\n",
      "Action.rev_high_hard_right\t6.857778042646162\n",
      "Best: Action.rev_low_soft_left\n"
     ]
    }
   ],
   "source": [
    "print_action_values(Q[states.State.good_straight.value])\n",
    "print_best_action(Q[states.State.good_straight.value])\n",
    "print_action_values(Q[states.State.far_straight.value])\n",
    "print_best_action(Q[states.State.far_straight.value])"
   ]
  },
  {
   "cell_type": "code",
   "execution_count": 191,
   "metadata": {},
   "outputs": [],
   "source": [
    "Q_serialized = pickle.dumps(Q)\n",
    "out_path = \"../models/q.pkl\"\n",
    "with open(out_path, \"bw\") as f:\n",
    "    f.write(Q_serialized)"
   ]
  },
  {
   "cell_type": "code",
   "execution_count": null,
   "metadata": {},
   "outputs": [],
   "source": []
  }
 ],
 "metadata": {
  "kernelspec": {
   "display_name": "Python 3",
   "language": "python",
   "name": "python3"
  },
  "language_info": {
   "codemirror_mode": {
    "name": "ipython",
    "version": 3
   },
   "file_extension": ".py",
   "mimetype": "text/x-python",
   "name": "python",
   "nbconvert_exporter": "python",
   "pygments_lexer": "ipython3",
   "version": "3.6.3"
  }
 },
 "nbformat": 4,
 "nbformat_minor": 2
}
